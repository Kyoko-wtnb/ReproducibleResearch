{
 "cells": [
  {
   "cell_type": "code",
   "execution_count": null,
   "metadata": {
    "collapsed": false
   },
   "outputs": [],
   "source": [
    "#!/usr/bin/python\n",
    "import requests, sys\n",
    "\n",
    "\n",
    "def convert_and_map_human_gene_symbol(gene, target_taxon):\n",
    "    server = \"https://rest.ensembl.org\"\n",
    "    ext = \"/homology/symbol/human/\"+gene+\"?target_taxon=\"+str(target_taxon)+\";format=condensed;type=orthologues\"\n",
    "    r = requests.get(server+ext, headers={\"Content-Type\" : \"application/json\"})\n",
    "\n",
    "    if not r.ok:\n",
    "        r.raise_for_status()\n",
    "        sys.exit()\n",
    "\n",
    "    decoded = r.json()['data'][0]\n",
    "    return(decoded)\n",
    "\n",
    "def get_goterms(gene):  \n",
    "    server = \"https://rest.ensembl.org\"\n",
    "    ext = \"/xrefs/id/\"+gene+\"?external_db=GO;all_levels=1\"\n",
    "    r = requests.get(server+ext, headers={\"Content-Type\" : \"application/json\"})\n",
    "    \n",
    "    if not r.ok:\n",
    "        r.raise_for_status()\n",
    "        sys.exit()\n",
    "\n",
    "    decoded = r.json()\n",
    "    return(decoded)\n",
    "\n",
    "def parse_goterms(gotermjson):\n",
    "    parsed=[]\n",
    "    for term in gotermjson:\n",
    "        if not term['description'] in parsed:\n",
    "            parsed.append(term['description'])\n",
    "\n",
    "    return(parsed)\n",
    "        \n",
    "def convert_symbol_file(fname, target_taxon):\n",
    "    mappings = {}\n",
    "    with open(fname) as f:\n",
    "        header = f.readline()\n",
    "        header = header + '\\n'+ f.readline()\n",
    "        for line in f:\n",
    "            gene=line.strip()\n",
    "            mappings[gene] = convert_and_map_human_gene_symbol(gene, target_taxon)\n",
    "\n",
    "    return(mappings)\n",
    "\n",
    "\n",
    "def output_terms(fname, mappings, origin=True):\n",
    "    outf = open(fname, 'w')\n",
    "    outf.write('\\t'.join([\"SYMBOL\",\"ID\",\"GOterms\"])+'\\n')\n",
    "    \n",
    "    for gid in mappings:\n",
    "        if len(mappings[gid]['homologies']) <= 0 and not origin:\n",
    "            outf.write('\\t'.join([gid, \"\", \"\"])+'\\n')\n",
    "        elif origin:\n",
    "            outf.write('\\t'.join([gid, mappings[gid]['id'], \", \".join(parse_goterms(get_goterms(mappings[gid]['id'])))])+'\\n')\n",
    "        else:\n",
    "            outf.write('\\t'.join([gid, mappings[gid]['homologies'][0]['id'], \", \".join(parse_goterms(get_goterms(mappings[gid]['homologies'][0]['id'])))])+'\\n')\n",
    "    outf.close()\n",
    "\n",
    "def output_converted_ids(fname, mappings):\n",
    "    outf = open(fname, 'w')\n",
    "    outf.write('\\t'.join([\"SYMBOL\",\"ID\",\"MOUSE\"])+'\\n')\n",
    "    for gid in mappings:\n",
    "        if len(mappings[gid]['homologies']) <= 0:\n",
    "            outf.write('\\t'.join([gid, mappings[gid]['id'], \"\"])+'\\n')\n",
    "        else:\n",
    "            outf.write('\\t'.join([gid, mappings[gid]['id'], mappings[gid]['homologies'][0]['id']])+'\\n')\n",
    "    outf.close()\n",
    "    \n",
    "    \n"
   ]
  },
  {
   "cell_type": "code",
   "execution_count": null,
   "metadata": {
    "collapsed": true
   },
   "outputs": [],
   "source": [
    "# Homo Sapiens - Human \n",
    "origin_taxon=9606\n",
    "# Mus Musculus - Mouse \n",
    "target_taxon=10090"
   ]
  },
  {
   "cell_type": "code",
   "execution_count": null,
   "metadata": {
    "collapsed": false
   },
   "outputs": [],
   "source": [
    "mappings = convert_symbol_file(\"../shared/\"+\"List1.txt\", target_taxon)\n",
    "output_converted_ids(\"../\"+\"List1.converted.txt\", mappings)"
   ]
  },
  {
   "cell_type": "code",
   "execution_count": null,
   "metadata": {
    "collapsed": false
   },
   "outputs": [],
   "source": [
    "# RUN THE CODE ON AN ID SET\n",
    "output_terms(\"../\"+\"List1_ID.GO.txt\", mappings, origin=True)"
   ]
  },
  {
   "cell_type": "code",
   "execution_count": 57,
   "metadata": {
    "collapsed": false
   },
   "outputs": [
    {
     "name": "stdout",
     "output_type": "stream",
     "text": [
      "Official ID\n",
      "grep: ../List1_ID.GO.txt: No such file or directory\n"
     ]
    }
   ],
   "source": [
    "! echo \"Official ID\"\n",
    "! grep CRISP ../List1_ID.GO.txt"
   ]
  },
  {
   "cell_type": "code",
   "execution_count": 59,
   "metadata": {
    "collapsed": false
   },
   "outputs": [
    {
     "name": "stdout",
     "output_type": "stream",
     "text": [
      "On branch master\n",
      "Your branch is up-to-date with 'origin/master'.\n",
      "Changes not staged for commit:\n",
      "\t\u001b[31mmodified:   Prepping_RS_Workshop.ipynb\u001b[m\n",
      "\t\u001b[31mmodified:   VersionedNotebook.ipynb\u001b[m\n",
      "\n",
      "no changes added to commit\n",
      "Everything up-to-date\n"
     ]
    }
   ],
   "source": [
    "#! git code here\n",
    "! git commit -m \"ID version\"\n",
    "! git tag -a v1.1 -m \"ID version\"\n",
    "! git push\n"
   ]
  },
  {
   "cell_type": "code",
   "execution_count": null,
   "metadata": {
    "collapsed": true
   },
   "outputs": [],
   "source": []
  }
 ],
 "metadata": {
  "kernelspec": {
   "display_name": "Python 3",
   "language": "python",
   "name": "python3"
  },
  "language_info": {
   "codemirror_mode": {
    "name": "ipython",
    "version": 3
   },
   "file_extension": ".py",
   "mimetype": "text/x-python",
   "name": "python",
   "nbconvert_exporter": "python",
   "pygments_lexer": "ipython3",
   "version": "3.6.1"
  }
 },
 "nbformat": 4,
 "nbformat_minor": 2
}
